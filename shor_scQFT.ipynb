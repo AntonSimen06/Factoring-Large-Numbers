{
 "cells": [
  {
   "cell_type": "markdown",
   "metadata": {},
   "source": [
    "# Algoritmo de Shor utilizando a QFT semi-classica"
   ]
  },
  {
   "cell_type": "code",
   "execution_count": 23,
   "metadata": {},
   "outputs": [],
   "source": [
    "import qiskit\n",
    "from qiskit import *\n",
    "from qiskit.visualization import *\n",
    "import numpy as np"
   ]
  },
  {
   "cell_type": "code",
   "execution_count": 24,
   "metadata": {},
   "outputs": [],
   "source": [
    "from qiskit import Aer, execute\n",
    "simulator = Aer.get_backend('qasm_simulator')\n",
    "from qiskit.visualization import plot_histogram"
   ]
  },
  {
   "cell_type": "code",
   "execution_count": 25,
   "metadata": {},
   "outputs": [],
   "source": [
    "q_med1 = QuantumCircuit(1,1)\n",
    "q_med1.measure(0,0)\n",
    "\n",
    "q_med2 = QuantumCircuit(1,1)\n",
    "q_med2.measure(0,0)\n",
    "\n",
    "q_med3 = QuantumCircuit(1,1)\n",
    "q_med3.measure(0,0)\n",
    "\n",
    "# definição dos operadores controlados\n",
    "\n",
    "qc1 = QuantumCircuit(4)\n",
    "#a^4mod15 - vazio\n",
    "qc1.x(0)\n",
    "qc1.x(0)\n",
    "U1 = qc1.to_gate().control(1)\n",
    "\n",
    "\n",
    "qc2 = QuantumCircuit(4)\n",
    "#a^2mod15\n",
    "qc2.x(1)\n",
    "qc2.x(3)\n",
    "U2 = qc2.to_gate().control(1)\n",
    "\n",
    "\n",
    "qc3 = QuantumCircuit(4)\n",
    "#a^1mod15\n",
    "qc3.swap(0,1)\n",
    "qc3.swap(2,3)\n",
    "U3 = qc3.to_gate().control(1)\n",
    "\n",
    "\n",
    "from math import*\n",
    "from qiskit.quantum_info.operators import Operator\n",
    "\n",
    "r0pi2 = np.matrix([[1j,0],[0,1]])\n",
    "r0pi4 = np.matrix([[1/sqrt(2)+1j/sqrt(2) ,0],[0,1]])\n"
   ]
  },
  {
   "cell_type": "code",
   "execution_count": 26,
   "metadata": {},
   "outputs": [
    {
     "name": "stdout",
     "output_type": "stream",
     "text": [
      "dict_keys(['1']) dict_keys(['1']) dict_keys(['0'])\n",
      "dict_keys(['1']) dict_keys(['1']) dict_keys(['0'])\n",
      "dict_keys(['0']) dict_keys(['0']) dict_keys(['0'])\n",
      "dict_keys(['1']) dict_keys(['1']) dict_keys(['0'])\n",
      "dict_keys(['1']) dict_keys(['1']) dict_keys(['0'])\n",
      "dict_keys(['0']) dict_keys(['0']) dict_keys(['0'])\n",
      "dict_keys(['1']) dict_keys(['0']) dict_keys(['0'])\n",
      "dict_keys(['0']) dict_keys(['0']) dict_keys(['0'])\n",
      "dict_keys(['0']) dict_keys(['0']) dict_keys(['0'])\n",
      "dict_keys(['0']) dict_keys(['1']) dict_keys(['0'])\n",
      "dict_keys(['1']) dict_keys(['1']) dict_keys(['0'])\n",
      "dict_keys(['0']) dict_keys(['0']) dict_keys(['0'])\n",
      "dict_keys(['1']) dict_keys(['1']) dict_keys(['0'])\n",
      "dict_keys(['0']) dict_keys(['0']) dict_keys(['0'])\n",
      "dict_keys(['1']) dict_keys(['1']) dict_keys(['0'])\n",
      "dict_keys(['0']) dict_keys(['0']) dict_keys(['0'])\n"
     ]
    }
   ],
   "source": [
    "num_it = 16\n",
    "for i in range(num_it):\n",
    "    qc = QuantumCircuit(5,1) #circuito geral\n",
    "    qc.x(4)\n",
    "    qc.barrier()\n",
    "    \n",
    "    #início da primeira parte \n",
    "    qc.h(0)\n",
    "    qc.append(U1, [0,1,2,3,4])\n",
    "    qc.h(0)\n",
    "    qc = qc.compose(q_med1)\n",
    "    #fim da primeira parte\n",
    "    \n",
    "    #executa a primeira medida no simulador\n",
    "    counts1 = execute(qc, backend=simulator, shots=1).result().get_counts(qc)\n",
    "    \n",
    "    \n",
    "    #inicio da segunda parte\n",
    "    qc.reset(0)\n",
    "    qc.h(0)\n",
    "    qc.append(U2, [0,1,2,3,4])\n",
    "    \n",
    "    if counts1['0']:\n",
    "        qc.unitary(Operator(r0pi2), range(1), label='R0pi/2')\n",
    "    elif counts1['1']:\n",
    "        qc.u1(np.pi/2, 0)\n",
    "            \n",
    "    qc.h(0)\n",
    "    qc = qc.compose(q_med2)\n",
    "    # fim da segunda parte\n",
    "    \n",
    "    #executa a segunda medida no simulador\n",
    "    counts2 = execute(qc, backend=simulator, shots=1).result().get_counts(qc)\n",
    "    \n",
    "    #inicio da terceira parte\n",
    "    qc.reset(0)\n",
    "    qc.h(0)\n",
    "    qc.append(U3, [0,1,2,3,4])\n",
    "\n",
    "    if (counts2 == {'0': 1}):    \n",
    "        qc.unitary(Operator(r0pi2), range(1), label='R0pi/2')\n",
    "    elif (counts2 == {'1': 1}):\n",
    "        qc.u1(np.pi/2, 0)\n",
    "\n",
    "    if (counts1 == {'0': 1}):\n",
    "        qc.unitary(Operator(r0pi4), range(1), label='R0pi/4')\n",
    "    elif (counts1 == {'1': 1}):\n",
    "        qc.u1(np.pi/4, 0)\n",
    "\n",
    "    qc.h(0)\n",
    "    qc = qc.compose(q_med3)\n",
    "    #fim da terceira parte\n",
    "    \n",
    "    #executa a terceira medida no simulador\n",
    "    counts3 = execute(qc, backend=simulator, shots=1).result().get_counts(qc)\n",
    "    \n",
    "    \n",
    "    print(counts3.keys(), counts2.keys(), counts1.keys())\n",
    "    \n",
    "    "
   ]
  },
  {
   "cell_type": "code",
   "execution_count": 29,
   "metadata": {},
   "outputs": [
    {
     "data": {
      "image/png": "[encoded data removed]",
      "text/plain": [
       "<Figure size 1645.78x385.28 with 1 Axes>"
      ]
     },
     "execution_count": 29,
     "metadata": {},
     "output_type": "execute_result"
    }
   ],
   "source": [
    "qc.draw(output='mpl', fold=-1)"
   ]
  }
 ],
 "metadata": {
  "kernelspec": {
   "display_name": "Python 3",
   "language": "python",
   "name": "python3"
  },
  "language_info": {
   "codemirror_mode": {
    "name": "ipython",
    "version": 3
   },
   "file_extension": ".py",
   "mimetype": "text/x-python",
   "name": "python",
   "nbconvert_exporter": "python",
   "pygments_lexer": "ipython3",
   "version": "3.7.6"
  }
 },
 "nbformat": 4,
 "nbformat_minor": 4
}
